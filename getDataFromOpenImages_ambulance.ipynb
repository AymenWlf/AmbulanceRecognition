{
 "cells": [
  {
   "cell_type": "markdown",
   "id": "80b2b4f6",
   "metadata": {},
   "source": [
    "# GET DATA FROM OPEN IMAGE : AMBULANCE"
   ]
  },
  {
   "cell_type": "markdown",
   "id": "efcbf741",
   "metadata": {},
   "source": [
    "# Add packages"
   ]
  },
  {
   "cell_type": "code",
   "execution_count": 6,
   "id": "b6883e3d",
   "metadata": {},
   "outputs": [],
   "source": [
    "import csv\n",
    "import subprocess\n",
    "import os"
   ]
  },
  {
   "cell_type": "markdown",
   "id": "8708bccf",
   "metadata": {},
   "source": [
    "# Variables declaration"
   ]
  },
  {
   "cell_type": "code",
   "execution_count": 7,
   "id": "2f8512fa",
   "metadata": {},
   "outputs": [],
   "source": [
    "runMode = \"train\"\n",
    "classes = [\"Ambulance\"]"
   ]
  },
  {
   "cell_type": "code",
   "execution_count": 11,
   "id": "d8b56ed0",
   "metadata": {},
   "outputs": [],
   "source": [
    "with open('input-data/class-descriptions-boxable.csv', mode='r') as infile:\n",
    "    reader = csv.reader(infile)\n",
    "    dict_list = {rows[1]:rows[0] for rows in reader} #Ambumance here"
   ]
  },
  {
   "cell_type": "code",
   "execution_count": 9,
   "id": "fbb867dd",
   "metadata": {},
   "outputs": [
    {
     "data": {
      "text/plain": [
       "CompletedProcess(args=['mkdir', 'labels'], returncode=1)"
      ]
     },
     "execution_count": 9,
     "metadata": {},
     "output_type": "execute_result"
    }
   ],
   "source": [
    "\n",
    "subprocess.run(['rm', '-rf', 'JPEGImages'],shell=True)\n",
    "subprocess.run(['mkdir', 'JPEGImages'],shell=True)\n",
    "\n",
    "subprocess.run(['rm', '-rf', 'labels'],shell=True)\n",
    "subprocess.run(['mkdir', 'labels'],shell=True)\n"
   ]
  },
  {
   "cell_type": "code",
   "execution_count": 10,
   "id": "706c871a",
   "metadata": {},
   "outputs": [
    {
     "name": "stdout",
     "output_type": "stream",
     "text": [
      "Class 0 : Ambulance\n",
      "grep /m/012n7d input-data/train-annotations-bbox.csv\n",
      "Total number of annotations : 0\n"
     ]
    }
   ],
   "source": [
    "for ind in range(0, len(classes)):\n",
    "    className = classes[ind]\n",
    "    print(\"Class \" + str(ind) + \" : \" + className)\n",
    "    \n",
    "    commandStr = \"grep \" + dict_list[className] + \" input-data/\" + runMode + \"-annotations-bbox.csv\"\n",
    "    print(commandStr)\n",
    "    class_annotations = subprocess.run(commandStr.split(), stdout=subprocess.PIPE,shell=True).stdout.decode('utf-8')\n",
    "    class_annotations = class_annotations.splitlines()\n",
    "    \n",
    "    totalNumOfAnnotations = len(class_annotations)\n",
    "    print(\"Total number of annotations : \"+str(totalNumOfAnnotations))\n",
    "    \n",
    "    cnt = 0\n",
    "    for line in class_annotations[0:totalNumOfAnnotations]:\n",
    "        cnt = cnt + 1\n",
    "        print(\"annotation count : \" + str(cnt))\n",
    "        lineParts = line.split(',')\n",
    "        subprocess.run([ 'aws', 's3', '--no-sign-request', '--only-show-errors', 'cp', 's3://open-images-dataset/'+runMode+'/'+lineParts[0]+\".jpg\", 'JPEGImages/'+lineParts[0]+\".jpg\"],shell=True)\n",
    "        with open('labels/%s.txt'%(lineParts[0]),'a') as f:\n",
    "            f.write(' '.join([str(ind),str((float(lineParts[5]) + float(lineParts[4]))/2), str((float(lineParts[7]) + float(lineParts[6]))/2), str(float(lineParts[5])-float(lineParts[4])),str(float(lineParts[7])-float(lineParts[6]))])+'\\n')\n"
   ]
  },
  {
   "cell_type": "code",
   "execution_count": null,
   "id": "81eb4cbe",
   "metadata": {},
   "outputs": [],
   "source": []
  },
  {
   "cell_type": "code",
   "execution_count": null,
   "id": "313ada02",
   "metadata": {},
   "outputs": [],
   "source": []
  },
  {
   "cell_type": "code",
   "execution_count": null,
   "id": "4da37a58",
   "metadata": {},
   "outputs": [],
   "source": []
  }
 ],
 "metadata": {
  "kernelspec": {
   "display_name": "Python 3 (ipykernel)",
   "language": "python",
   "name": "python3"
  },
  "language_info": {
   "codemirror_mode": {
    "name": "ipython",
    "version": 3
   },
   "file_extension": ".py",
   "mimetype": "text/x-python",
   "name": "python",
   "nbconvert_exporter": "python",
   "pygments_lexer": "ipython3",
   "version": "3.9.12"
  }
 },
 "nbformat": 4,
 "nbformat_minor": 5
}
